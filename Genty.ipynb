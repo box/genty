{
 "cells": [
  {
   "cell_type": "markdown",
   "metadata": {
    "slideshow": {
     "slide_type": "slide"
    }
   },
   "source": [
    "# Genty\n",
    "\n",
    "**A test helper that promotes generative testing, where one test can run over a variety of inputs.**\n",
    "\n",
    "`pip install genty`\n",
    "\n",
    "Available on GitHub: https://github.com/box/genty"
   ]
  },
  {
   "cell_type": "markdown",
   "metadata": {
    "slideshow": {
     "slide_type": "subslide"
    }
   },
   "source": [
    "## Why?\n",
    "\n",
    "- Have you ever written several tests that look very similar and wish they could share code?\n",
    "- Have you ever written tests that repeat the same assertions for different data sets?"
   ]
  },
  {
   "cell_type": "markdown",
   "metadata": {
    "slideshow": {
     "slide_type": "fragment"
    }
   },
   "source": [
    "*How maintainable were those tests?*"
   ]
  },
  {
   "cell_type": "markdown",
   "metadata": {
    "slideshow": {
     "slide_type": "subslide"
    }
   },
   "source": [
    "**Genty lets you separate your test code from test data.**"
   ]
  },
  {
   "cell_type": "markdown",
   "metadata": {},
   "source": [
    "Writing tests using genty results in:\n",
    "\n",
    "- DRY test code\n",
    "- maintainable test code\n",
    "- a clear separation of test logic and test data"
   ]
  },
  {
   "cell_type": "markdown",
   "metadata": {},
   "source": [
    "Using genty promotes writing that test for that edge case that you might otherwise have skipped."
   ]
  },
  {
   "cell_type": "markdown",
   "metadata": {
    "slideshow": {
     "slide_type": "slide"
    }
   },
   "source": [
    "## Examples"
   ]
  },
  {
   "cell_type": "markdown",
   "metadata": {
    "slideshow": {
     "slide_type": "subslide"
    }
   },
   "source": [
    "Imagine we have a class library of shapes. Each shape can calculate its own `area()`."
   ]
  },
  {
   "cell_type": "code",
   "execution_count": 1,
   "metadata": {
    "collapsed": true
   },
   "outputs": [],
   "source": [
    "# Quick and simple test runner\n",
    "class Runner(object):\n",
    "    def __init__(self, klass):\n",
    "        self._klass = klass\n",
    "    \n",
    "    def run(self):\n",
    "        test_class = self._klass()\n",
    "        for test in (t for t in dir(test_class) if t.startswith('test_')):\n",
    "            passed = False\n",
    "            try:\n",
    "                getattr(test_class, test)()\n",
    "                passed = True\n",
    "            except:\n",
    "                pass\n",
    "            print test + ' ' + ('OK' if passed else 'F')"
   ]
  },
  {
   "cell_type": "code",
   "execution_count": 2,
   "metadata": {
    "collapsed": true,
    "slideshow": {
     "slide_type": "subslide"
    }
   },
   "outputs": [],
   "source": [
    "import math\n",
    "\n",
    "class Shape(object):\n",
    "    def area(self):\n",
    "        raise NotImplemented\n",
    "\n",
    "class Rectangle(Shape):\n",
    "    def __init__(self, length, width):\n",
    "        self._length = length\n",
    "        self._width = width\n",
    "\n",
    "    def area(self):\n",
    "        return self._length * self._width\n",
    "\n",
    "class Square(Rectangle):\n",
    "    def __init__(self, length):\n",
    "        super(Square, self).__init__(length, length)\n",
    "    \n",
    "class Circle(Shape):\n",
    "    def __init__(self, radius):\n",
    "        self._radius = radius\n",
    "\n",
    "    def area(self):\n",
    "        return self._radius ** 2 * math.pi"
   ]
  },
  {
   "cell_type": "markdown",
   "metadata": {
    "slideshow": {
     "slide_type": "subslide"
    }
   },
   "source": [
    "Testing the `area()` calculations of each shape isn't too difficult."
   ]
  },
  {
   "cell_type": "code",
   "execution_count": 3,
   "metadata": {
    "collapsed": true,
    "slideshow": {
     "slide_type": "fragment"
    }
   },
   "outputs": [],
   "source": [
    "class TestShapes(object):\n",
    "    def test_square_area(self):\n",
    "        assert Square(3).area() == 9\n",
    "\n",
    "    def test_rectangle_area(self):\n",
    "        assert Rectangle(3, 5).area() == 15\n",
    "\n",
    "    def test_funky_rectangle_area(self):\n",
    "        assert Rectangle(3, 0).area() == 0\n",
    "\n",
    "    def test_circle_area(self):\n",
    "        assert Circle(2).area() == 4*math.pi"
   ]
  },
  {
   "cell_type": "code",
   "execution_count": 4,
   "metadata": {
    "collapsed": false,
    "slideshow": {
     "slide_type": "fragment"
    }
   },
   "outputs": [
    {
     "name": "stdout",
     "output_type": "stream",
     "text": [
      "test_circle_area OK\n",
      "test_funky_rectangle_area OK\n",
      "test_rectangle_area OK\n",
      "test_square_area OK\n"
     ]
    }
   ],
   "source": [
    "Runner(TestShapes).run()"
   ]
  },
  {
   "cell_type": "markdown",
   "metadata": {
    "slideshow": {
     "slide_type": "fragment"
    }
   },
   "source": [
    "However, we do see plenty of code duplication.\n",
    "\n",
    "* What would happen if we refactored the code under test? Lots of test code changes as well.\n",
    "* New shape? Several new test methods as well.\n",
    "* New method in the code under test? **Test code explosion!**"
   ]
  },
  {
   "cell_type": "code",
   "execution_count": 5,
   "metadata": {
    "collapsed": true,
    "slideshow": {
     "slide_type": "slide"
    }
   },
   "outputs": [],
   "source": [
    "class TestShapes2(object):\n",
    "    def test_shape_area(self):\n",
    "        assert Square(3).area() == 9\n",
    "        assert Rectangle(3, 5).area() == 15\n",
    "        assert Rectangle(3, 0).area() == 0\n",
    "        assert Circle(2).area() == 4*math.pi"
   ]
  },
  {
   "cell_type": "code",
   "execution_count": 6,
   "metadata": {
    "collapsed": false,
    "slideshow": {
     "slide_type": "fragment"
    }
   },
   "outputs": [
    {
     "name": "stdout",
     "output_type": "stream",
     "text": [
      "test_shape_area OK\n"
     ]
    }
   ],
   "source": [
    "Runner(TestShapes2).run()"
   ]
  },
  {
   "cell_type": "markdown",
   "metadata": {
    "slideshow": {
     "slide_type": "fragment"
    }
   },
   "source": [
    "Wow! That's a lot less code. But it's also a lot less test feedback."
   ]
  },
  {
   "cell_type": "markdown",
   "metadata": {
    "slideshow": {
     "slide_type": "subslide"
    }
   },
   "source": [
    "Let's try the same thing using genty."
   ]
  },
  {
   "cell_type": "code",
   "execution_count": 7,
   "metadata": {
    "collapsed": true,
    "slideshow": {
     "slide_type": "fragment"
    }
   },
   "outputs": [],
   "source": [
    "from genty import genty, genty_dataset\n",
    "\n",
    "@genty\n",
    "class TestShapes3(object):\n",
    "    @genty_dataset(\n",
    "        (Square(3), 9),\n",
    "        (Rectangle(3, 5), 15),\n",
    "        (Rectangle(3, 0), 0),\n",
    "        (Circle(2), 4 * math.pi),\n",
    "    )\n",
    "    def test_shape_area(self, shape, expected_area):\n",
    "        assert shape.area() == expected_area"
   ]
  },
  {
   "cell_type": "code",
   "execution_count": 8,
   "metadata": {
    "collapsed": false,
    "slideshow": {
     "slide_type": "fragment"
    }
   },
   "outputs": [
    {
     "name": "stdout",
     "output_type": "stream",
     "text": [
      "test_shape_area(<__main__.Circle object at 0x1065273d0>, 12.5663706144) OK\n",
      "test_shape_area(<__main__.Rectangle object at 0x10651c550>, 15) OK\n",
      "test_shape_area(<__main__.Rectangle object at 0x106527310>, 0) OK\n",
      "test_shape_area(<__main__.Square object at 0x10651c5d0>, 9) OK\n"
     ]
    }
   ],
   "source": [
    "Runner(TestShapes3).run()"
   ]
  },
  {
   "cell_type": "markdown",
   "metadata": {
    "slideshow": {
     "slide_type": "fragment"
    }
   },
   "source": [
    "Cool! Our test data is separated from our test logic, and we get detailed test feedback."
   ]
  },
  {
   "cell_type": "markdown",
   "metadata": {
    "slideshow": {
     "slide_type": "slide"
    }
   },
   "source": [
    "## Features"
   ]
  },
  {
   "cell_type": "markdown",
   "metadata": {
    "slideshow": {
     "slide_type": "subslide"
    }
   },
   "source": [
    "### Named datasets\n",
    "\n",
    "Genty will automatically name your generated tests for you, but you can specify the names directly."
   ]
  },
  {
   "cell_type": "code",
   "execution_count": 9,
   "metadata": {
    "collapsed": false,
    "slideshow": {
     "slide_type": "fragment"
    }
   },
   "outputs": [],
   "source": [
    "from genty import genty, genty_dataset\n",
    "\n",
    "@genty\n",
    "class TestShapes3(object):\n",
    "    @genty_dataset(\n",
    "        square_3x3=(Square(3), 9),\n",
    "        recatngle_3x5=(Rectangle(3, 5), 15),\n",
    "        rectangle_3x0=(Rectangle(3, 0), 0),\n",
    "        circle_radius_2=(Circle(2), 4 * math.pi),\n",
    "    )\n",
    "    def test_shape_area(self, shape, expected_area):\n",
    "        assert shape.area() == expected_area"
   ]
  },
  {
   "cell_type": "code",
   "execution_count": 10,
   "metadata": {
    "collapsed": false,
    "slideshow": {
     "slide_type": "fragment"
    }
   },
   "outputs": [
    {
     "name": "stdout",
     "output_type": "stream",
     "text": [
      "test_shape_area(circle_radius_2) OK\n",
      "test_shape_area(recatngle_3x5) OK\n",
      "test_shape_area(rectangle_3x0) OK\n",
      "test_shape_area(square_3x3) OK\n"
     ]
    }
   ],
   "source": [
    "Runner(TestShapes3).run()"
   ]
  },
  {
   "cell_type": "markdown",
   "metadata": {
    "slideshow": {
     "slide_type": "subslide"
    }
   },
   "source": [
    "### Optional/named parameters\n",
    "\n",
    "Genty fills test parameters from `genty_dataset`s, but you might prefer to give some test methods parameters with default values.\n",
    "\n",
    "In that case, you can use `genty_args`. Simply pass `genty_args` parameters as you would pass to the test method."
   ]
  },
  {
   "cell_type": "code",
   "execution_count": 11,
   "metadata": {
    "collapsed": true,
    "slideshow": {
     "slide_type": "fragment"
    }
   },
   "outputs": [],
   "source": [
    "from genty import genty_args\n",
    "\n",
    "@genty\n",
    "class TestComplex(object):\n",
    "    @genty_dataset(\n",
    "        default_case=(0, 1),\n",
    "        limit_case=(999, 1000),\n",
    "        error_case=genty_args(-1, -1, is_something=False),\n",
    "    )\n",
    "    def test_complex(self, value1, value2, optional_value=None, is_something=True):\n",
    "        assert is_something"
   ]
  },
  {
   "cell_type": "code",
   "execution_count": 12,
   "metadata": {
    "collapsed": false,
    "slideshow": {
     "slide_type": "fragment"
    }
   },
   "outputs": [
    {
     "name": "stdout",
     "output_type": "stream",
     "text": [
      "test_complex(default_case) OK\n",
      "test_complex(error_case) F\n",
      "test_complex(limit_case) OK\n"
     ]
    }
   ],
   "source": [
    "Runner(TestComplex).run()"
   ]
  },
  {
   "cell_type": "markdown",
   "metadata": {
    "slideshow": {
     "slide_type": "subslide"
    }
   },
   "source": [
    "### Repeating a test\n",
    "\n",
    "`genty_repeat` lets you run a test multiple times."
   ]
  },
  {
   "cell_type": "code",
   "execution_count": 13,
   "metadata": {
    "collapsed": true,
    "slideshow": {
     "slide_type": "fragment"
    }
   },
   "outputs": [],
   "source": [
    "from genty import genty_repeat\n",
    "\n",
    "@genty\n",
    "class TestSomething(object):\n",
    "    @genty_repeat(5)\n",
    "    def test_something(self):\n",
    "        pass"
   ]
  },
  {
   "cell_type": "code",
   "execution_count": 14,
   "metadata": {
    "collapsed": false,
    "slideshow": {
     "slide_type": "fragment"
    }
   },
   "outputs": [
    {
     "name": "stdout",
     "output_type": "stream",
     "text": [
      "test_something() iteration_1 OK\n",
      "test_something() iteration_2 OK\n",
      "test_something() iteration_3 OK\n",
      "test_something() iteration_4 OK\n",
      "test_something() iteration_5 OK\n"
     ]
    }
   ],
   "source": [
    "Runner(TestSomething).run()"
   ]
  },
  {
   "cell_type": "markdown",
   "metadata": {
    "slideshow": {
     "slide_type": "subslide"
    }
   },
   "source": [
    "### Deferred data generation\n",
    "\n",
    "Normally, data passed to `genty_dataset` needs to be known at test definition time.\n",
    "\n",
    "For data that might not be known until runtime, there is `genty_dataprovider`, which defers data generation to just before the test is run.\n",
    "\n",
    "Simply pass in a helper method that will return a tuple; the tuple will be unpacked and sent as `*args` to the test method."
   ]
  },
  {
   "cell_type": "code",
   "execution_count": 15,
   "metadata": {
    "collapsed": false,
    "slideshow": {
     "slide_type": "fragment"
    }
   },
   "outputs": [],
   "source": [
    "from datetime import datetime\n",
    "from genty import genty_dataprovider\n",
    "\n",
    "@genty\n",
    "class TestSomething2(object):\n",
    "    def _helper(self):\n",
    "        return datetime.utcnow(), 'foo'\n",
    "\n",
    "    @genty_dataprovider(_helper)\n",
    "    def test_something(self, date, name):\n",
    "        pass"
   ]
  },
  {
   "cell_type": "code",
   "execution_count": 16,
   "metadata": {
    "collapsed": false,
    "slideshow": {
     "slide_type": "fragment"
    }
   },
   "outputs": [
    {
     "name": "stdout",
     "output_type": "stream",
     "text": [
      "test_something__helper OK\n"
     ]
    }
   ],
   "source": [
    "Runner(TestSomething2).run()"
   ]
  },
  {
   "cell_type": "markdown",
   "metadata": {
    "slideshow": {
     "slide_type": "subslide"
    }
   },
   "source": [
    "`genty_dataprovider` helper methods can in turn be decorated with `@genty_dataset`, allowing the helper to be parametrized."
   ]
  },
  {
   "cell_type": "code",
   "execution_count": 17,
   "metadata": {
    "collapsed": true,
    "slideshow": {
     "slide_type": "fragment"
    }
   },
   "outputs": [],
   "source": [
    "@genty\n",
    "class TestSomething3(object):\n",
    "    @genty_dataset('foo', 'bar')\n",
    "    def _helper(self, name):\n",
    "        return datetime.utcnow(), name\n",
    "\n",
    "    @genty_dataprovider(_helper)\n",
    "    def test_something(self, date, name):\n",
    "        pass"
   ]
  },
  {
   "cell_type": "code",
   "execution_count": 18,
   "metadata": {
    "collapsed": false,
    "slideshow": {
     "slide_type": "fragment"
    }
   },
   "outputs": [
    {
     "name": "stdout",
     "output_type": "stream",
     "text": [
      "test_something__helper('bar') OK\n",
      "test_something__helper('foo') OK\n"
     ]
    }
   ],
   "source": [
    "Runner(TestSomething3).run()"
   ]
  },
  {
   "cell_type": "markdown",
   "metadata": {
    "slideshow": {
     "slide_type": "slide"
    }
   },
   "source": [
    "## Summary\n",
    "\n",
    "- `@genty`/`@genty_dataset` let you easily parametrize your tests, separating test data from test logic.\n",
    "- `@genty_repeat` lets you run the same test multiple times.\n",
    "- `@genty_args` lets you specify args and kwargs just as you would to the test method.\n",
    "- `@genty_dataprovider` lets you defer the creation of test data until runtime."
   ]
  },
  {
   "cell_type": "markdown",
   "metadata": {
    "slideshow": {
     "slide_type": "slide"
    }
   },
   "source": [
    "This notebook is available for download: http://opensource.box.com/genty/Genty.ipynb\n",
    "\n",
    "Its content is licensed under the [Apache License 2.0](https://www.apache.org/licenses/LICENSE-2.0)."
   ]
  }
 ],
 "metadata": {
  "celltoolbar": "Slideshow",
  "kernelspec": {
   "display_name": "Python 2",
   "language": "python",
   "name": "python2"
  },
  "language_info": {
   "codemirror_mode": {
    "name": "ipython",
    "version": 2
   },
   "file_extension": ".py",
   "mimetype": "text/x-python",
   "name": "python",
   "nbconvert_exporter": "python",
   "pygments_lexer": "ipython2",
   "version": "2.7.9"
  }
 },
 "nbformat": 4,
 "nbformat_minor": 0
}
